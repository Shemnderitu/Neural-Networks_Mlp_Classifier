{
 "cells": [
  {
   "cell_type": "markdown",
   "id": "86cba549",
   "metadata": {},
   "source": [
    "## A classical feedforward network using the MLPClassifier."
   ]
  },
  {
   "cell_type": "code",
   "execution_count": 1,
   "id": "2f95f4a7",
   "metadata": {},
   "outputs": [],
   "source": [
    "import numpy as np\n",
    "import pandas as pd\n",
    "from sklearn.datasets import load_iris\n",
    "from sklearn.model_selection import train_test_split\n",
    "from sklearn.preprocessing import StandardScaler\n",
    "from sklearn.neural_network import MLPClassifier\n",
    "from sklearn.metrics import accuracy_score, classification_report"
   ]
  },
  {
   "cell_type": "code",
   "execution_count": 31,
   "id": "85a7d58e",
   "metadata": {},
   "outputs": [],
   "source": [
    "# Load Iris dataset\n",
    "data = load_iris()"
   ]
  },
  {
   "cell_type": "code",
   "execution_count": 32,
   "id": "f35bac78",
   "metadata": {},
   "outputs": [],
   "source": [
    "X = data.data  # Features (sepal/petal length/width)\n",
    "\n",
    "y = data.target  # Target labels (3 iris species)"
   ]
  },
  {
   "cell_type": "code",
   "execution_count": 33,
   "id": "14cce452",
   "metadata": {},
   "outputs": [],
   "source": [
    "# Split data into train/test sets (80/20 split)\n",
    "X_train, X_test, y_train, y_test = train_test_split(X, y, test_size=0.2, random_state=42, stratify=y)"
   ]
  },
  {
   "cell_type": "code",
   "execution_count": null,
   "id": "552a33b9",
   "metadata": {},
   "outputs": [],
   "source": [
    "# Standardize features (critical for neural networks)\n",
    "\n",
    "scaler = StandardScaler()\n",
    "X_train = scaler.fit_transform(X_train)\n",
    "X_test = scaler.transform(X_test)"
   ]
  },
  {
   "cell_type": "code",
   "execution_count": 34,
   "id": "60a6df74",
   "metadata": {},
   "outputs": [],
   "source": [
    "# Initialize MLPClassifier\n",
    "\n",
    "mlp = MLPClassifier(\n",
    "    hidden_layer_sizes=(64, 32),  # Two hidden layers with 64 and 32 neurons\n",
    "    activation='relu',           # Rectified Linear Unit activation\n",
    "    solver='adam',               # Stochastic gradient-based optimizer (adjust our gradient)\n",
    "    alpha=0.001,                 # L2 regularization strength\n",
    "    batch_size=32,               # Mini-batch size\n",
    "    learning_rate='constant',    # Constant learning rate\n",
    "    learning_rate_init=0.001,\n",
    "    max_iter=500,                # Maximum training iterations\n",
    "    random_state=42,\n",
    "    early_stopping=True,         # Stop if validation score doesn't improve\n",
    "    n_iter_no_change=10          # Max epochs without improvement\n",
    ")"
   ]
  },
  {
   "cell_type": "code",
   "execution_count": 36,
   "id": "6fd9a6c2",
   "metadata": {},
   "outputs": [
    {
     "data": {
      "text/plain": [
       "MLPClassifier(alpha=0.001, batch_size=32, early_stopping=True,\n",
       "              hidden_layer_sizes=(64, 32), max_iter=500, random_state=42)"
      ]
     },
     "execution_count": 36,
     "metadata": {},
     "output_type": "execute_result"
    }
   ],
   "source": [
    "# Train the model\n",
    "mlp.fit(X_train, y_train)"
   ]
  },
  {
   "cell_type": "code",
   "execution_count": 22,
   "id": "2462dafd",
   "metadata": {},
   "outputs": [
    {
     "name": "stdout",
     "output_type": "stream",
     "text": [
      "Test Accuracy: 0.73\n",
      "              precision    recall  f1-score   support\n",
      "\n",
      "      setosa       1.00      1.00      1.00        10\n",
      "  versicolor       0.60      0.60      0.60        10\n",
      "   virginica       0.60      0.60      0.60        10\n",
      "\n",
      "    accuracy                           0.73        30\n",
      "   macro avg       0.73      0.73      0.73        30\n",
      "weighted avg       0.73      0.73      0.73        30\n",
      "\n"
     ]
    }
   ],
   "source": [
    "# MODEL EVALUATION\n",
    "\n",
    "# Predict on test set\n",
    "y_pred = mlp.predict(X_test)\n",
    "\n",
    "# Calculate accuracy\n",
    "accuracy = accuracy_score(y_test, y_pred)\n",
    "print(f\"Test Accuracy: {accuracy:.2f}\")\n",
    "\n",
    "# Detailed classification report\n",
    "print(classification_report(y_test, y_pred, target_names=data.target_names))"
   ]
  },
  {
   "cell_type": "code",
   "execution_count": null,
   "id": "55b8ce91",
   "metadata": {},
   "outputs": [],
   "source": []
  }
 ],
 "metadata": {
  "kernelspec": {
   "display_name": "learn-env",
   "language": "python",
   "name": "python3"
  },
  "language_info": {
   "codemirror_mode": {
    "name": "ipython",
    "version": 3
   },
   "file_extension": ".py",
   "mimetype": "text/x-python",
   "name": "python",
   "nbconvert_exporter": "python",
   "pygments_lexer": "ipython3",
   "version": "3.8.5"
  }
 },
 "nbformat": 4,
 "nbformat_minor": 5
}
